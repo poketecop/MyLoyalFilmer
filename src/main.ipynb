{
 "cells": [
  {
   "cell_type": "code",
   "execution_count": null,
   "metadata": {},
   "outputs": [],
   "source": [
    "# RUN WITH INSTRUCTIONS\n",
    "from model.Initializer import Initializer\n",
    "from model.robot import RobotModule\n",
    "from model.robot import CameraModule\n",
    "\n",
    "initializer = Initializer()\n",
    "\n",
    "initializer.prepare_environment()\n",
    "\n",
    "robot = RobotModule.Robot(parameter_list = {'process_timeout': 60, 'color_to_track': CameraModule.TrackableColor.RED.name, 'initial_x_servo_angle': 140, 'initial_y_servo_angle': 80, 'debug': 'yes', 'mode': RobotModule.Mode.RUN_WITH_INSTRUCTIONS.name, 'instructions':'Run,3;left,2;sharp_left;run,3;spin_left,2', 'initial_delay': 20, 'desired_duty_cycle': 50, 'tracking_laps': 0, 'video_format': 'AVI', 'saving_fps': 23})\n",
    "\n",
    "robot.play()"
   ]
  },
  {
   "cell_type": "code",
   "execution_count": null,
   "metadata": {},
   "outputs": [],
   "source": [
    "# COLOR TRACK\n",
    "from model.Initializer import Initializer\n",
    "from model.robot import RobotModule\n",
    "from model.robot import CameraModule\n",
    "\n",
    "initializer = Initializer()\n",
    "\n",
    "initializer.prepare_environment()\n",
    "\n",
    "robot = RobotModule.Robot(parameter_list = {'process_timeout': 60, 'color_to_track': CameraModule.TrackableColor.RED.name, 'initial_x_servo_angle': 140, 'initial_y_servo_angle': 80, 'debug': 'yes', 'mode': RobotModule.Mode.COLOR_TRACK.name, 'initial_delay': 20, 'desired_duty_cycle': 20, 'tracking_laps': 0, 'video_format': 'AVI', 'saving_fps': 23})\n",
    "\n",
    "robot.play()"
   ]
  }
 ],
 "metadata": {
  "language_info": {
   "name": "python"
  },
  "orig_nbformat": 4
 },
 "nbformat": 4,
 "nbformat_minor": 2
}
