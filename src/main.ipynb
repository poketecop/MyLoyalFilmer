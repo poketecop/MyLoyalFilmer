{
 "cells": [
  {
   "cell_type": "code",
   "execution_count": null,
   "metadata": {},
   "outputs": [],
   "source": [
    "from model.Initializer import Initializer\n",
    "from model.robot import RobotModule\n",
    "\n",
    "initializer = Initializer()\n",
    "\n",
    "initializer.prepare_environment()\n",
    "\n",
    "robot = RobotModule.Robot(mode = RobotModule.Mode.TEST_COLOR_TRACK.name)\n",
    "\n",
    "robot.play()"
   ]
  }
 ],
 "metadata": {
  "language_info": {
   "name": "python"
  },
  "orig_nbformat": 4
 },
 "nbformat": 4,
 "nbformat_minor": 2
}
