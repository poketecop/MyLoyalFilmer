{
 "cells": [
  {
   "cell_type": "code",
   "execution_count": null,
   "metadata": {},
   "outputs": [],
   "source": [
    "from model.Initializer import Initializer\n",
    "from model.robot import RobotModule\n",
    "from model.robot import CameraModule\n",
    "\n",
    "initializer = Initializer()\n",
    "\n",
    "initializer.prepare_environment()\n",
    "\n",
    "robot = RobotModule.Robot(parameter_list = {'process_timeout': 30, 'color_to_track': CameraModule.TrackableColor.RED.name, 'initial_x_servo_angle': 140, 'initial_y_servo_angle': 80, 'alternative_camera_servos': 'yes', 'debug': 'no', 'mode': RobotModule.Mode.TRACK_LINE_AND_COLOR_TRACK.name, 'initial_delay': 7, 'desired_duty_cycle': 20, 'tracking_laps': 0, 'video_format': 'MP4', 'saving_fps': 30})\n",
    "\n",
    "robot.play()"
   ]
  }
 ],
 "metadata": {
  "language_info": {
   "name": "python"
  },
  "orig_nbformat": 4
 },
 "nbformat": 4,
 "nbformat_minor": 2
}
