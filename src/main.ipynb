{
 "cells": [
  {
   "cell_type": "code",
   "execution_count": null,
   "metadata": {},
   "outputs": [],
   "source": [
    "from model.Initializer import Initializer\n",
    "from model.robot import RobotModule\n",
    "from model.robot import CameraModule\n",
    "\n",
    "initializer = Initializer()\n",
    "\n",
    "initializer.prepare_environment()\n",
    "\n",
    "robot = RobotModule.Robot(parameter_list = {'process_timeout': 60, 'color_to_track': CameraModule.TrackableColor.RED.name, 'initial_x_servo_angle': 160, 'initial_y_servo_angle': 80, 'alternative_camera_servos': 'yes', 'debug': 'yes', 'mode': RobotModule.Mode.COLOR_TRACK.name})\n",
    "\n",
    "robot.play()"
   ]
  }
 ],
 "metadata": {
  "language_info": {
   "name": "python"
  },
  "orig_nbformat": 4
 },
 "nbformat": 4,
 "nbformat_minor": 2
}
